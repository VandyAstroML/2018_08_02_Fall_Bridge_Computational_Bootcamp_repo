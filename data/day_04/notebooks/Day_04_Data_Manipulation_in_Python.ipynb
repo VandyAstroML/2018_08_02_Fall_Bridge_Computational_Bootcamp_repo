{
 "cells": [
  {
   "cell_type": "markdown",
   "metadata": {},
   "source": [
    "# Manipulating data in Python\n",
    "\n",
    "In Python, you can manipulate your data in various ways. There are many, different functions that you can use in order to manipulate your data.\n",
    "\n",
    "At the end of this module, we will be generating the __Planck__ spectrum, which describes the intensity of a [blackbody](https://en.wikipedia.org/wiki/Black_body).\n",
    "\n",
    "Before we generate it, we need to know how to read a file, and plot its content"
   ]
  },
  {
   "cell_type": "markdown",
   "metadata": {},
   "source": [
    "## Reading in  and manipulating data\n",
    "\n",
    "There are a lot of modules to read in data from a file:\n",
    "\n",
    "- Numpy\n",
    "    - `genfromtxt`\n",
    "    - `loadfromtxt`\n",
    "- Pandas\n",
    "    - `read_csv`\n",
    "    - `read_table`\n",
    "- ...\n",
    "\n",
    "We will use \"`genfromtxt`\" for this exercise"
   ]
  },
  {
   "cell_type": "code",
   "execution_count": null,
   "metadata": {},
   "outputs": [],
   "source": [
    "## First, you need to import your modules\n",
    "%matplotlib inline\n",
    "\n",
    "import matplotlib\n",
    "import numpy as np\n",
    "import matplotlib.pyplot as plt"
   ]
  },
  {
   "cell_type": "markdown",
   "metadata": {},
   "source": [
    "We can also define the path to the directory that contains all of our files"
   ]
  },
  {
   "cell_type": "code",
   "execution_count": null,
   "metadata": {},
   "outputs": [],
   "source": [
    "data_path = '../data/'"
   ]
  },
  {
   "cell_type": "markdown",
   "metadata": {},
   "source": [
    "If you have questions about the function, you can add a \"?\" at the end of your function."
   ]
  },
  {
   "cell_type": "code",
   "execution_count": null,
   "metadata": {},
   "outputs": [],
   "source": [
    "help(np.genfromtxt)"
   ]
  },
  {
   "cell_type": "markdown",
   "metadata": {},
   "source": [
    "Now we can go ahead and read in the data, and save it to two arrays, i.e. __`x1`__ and __`y1`__:"
   ]
  },
  {
   "cell_type": "code",
   "execution_count": null,
   "metadata": {},
   "outputs": [],
   "source": [
    "x1, y1 = np.genfromtxt('../data/dataset1.txt',\n",
    "                      unpack=True,\n",
    "                      dtype=np.float)"
   ]
  },
  {
   "cell_type": "markdown",
   "metadata": {},
   "source": [
    "We now use __`unpack`__ to tell Python to throw out the two columns and we caught them with arrays __`x`__ and __`y`__, but we could have just captured whatever came out, then it just would be a merged array:"
   ]
  },
  {
   "cell_type": "code",
   "execution_count": null,
   "metadata": {},
   "outputs": [],
   "source": [
    "data = np.genfromtxt('../data/dataset1.txt', dtype=np.float)"
   ]
  },
  {
   "cell_type": "markdown",
   "metadata": {},
   "source": [
    "You can now examine the output from `genfromtxt`:"
   ]
  },
  {
   "cell_type": "code",
   "execution_count": null,
   "metadata": {},
   "outputs": [],
   "source": [
    "print(data.shape)"
   ]
  },
  {
   "cell_type": "code",
   "execution_count": null,
   "metadata": {},
   "outputs": [],
   "source": [
    "print(data[:,0])"
   ]
  },
  {
   "cell_type": "code",
   "execution_count": null,
   "metadata": {},
   "outputs": [],
   "source": [
    "x1"
   ]
  },
  {
   "cell_type": "markdown",
   "metadata": {},
   "source": [
    "You can check that the 1st column of __`data`__ is the same as __`x1`__ with `np.array_equal`:"
   ]
  },
  {
   "cell_type": "code",
   "execution_count": null,
   "metadata": {},
   "outputs": [],
   "source": [
    "np.array_equal(x1, data[:,0])"
   ]
  },
  {
   "cell_type": "markdown",
   "metadata": {},
   "source": [
    "### Reading in from remote data\n",
    "\n",
    "Another nice thing about `genfromtxt` is that it can read dta from a __URL__:"
   ]
  },
  {
   "cell_type": "code",
   "execution_count": null,
   "metadata": {},
   "outputs": [],
   "source": [
    "## Setting up path to remote file\n",
    "remote_file = 'https://raw.githubusercontent.com/jbrownlee/Datasets/master/pima-indians-diabetes.data.csv'\n",
    "\n",
    "## Extracting data from file, and saving it as to variable `A`\n",
    "A = np.genfromtxt(remote_file, unpack=True, delimiter=',')"
   ]
  },
  {
   "cell_type": "markdown",
   "metadata": {},
   "source": [
    "Now `A` has the shape of 9 columns by 768 rows"
   ]
  },
  {
   "cell_type": "code",
   "execution_count": null,
   "metadata": {},
   "outputs": [],
   "source": [
    "A.shape"
   ]
  },
  {
   "cell_type": "markdown",
   "metadata": {},
   "source": [
    "As you can see, the shape of `A` is different than the one in the URL.\n",
    "To fix it, you can `transpose` the array:"
   ]
  },
  {
   "cell_type": "code",
   "execution_count": null,
   "metadata": {},
   "outputs": [],
   "source": [
    "A.T"
   ]
  },
  {
   "cell_type": "code",
   "execution_count": null,
   "metadata": {},
   "outputs": [],
   "source": [
    "print(A.T.shape)"
   ]
  },
  {
   "cell_type": "markdown",
   "metadata": {},
   "source": [
    "## Fitting a straight line\n",
    "\n",
    "Now that we've read the data, we can use to __fit__ a straight line to it.\n",
    "\n",
    "The steps to follow are:\n",
    "- Create a new function called `myline`\n",
    "- Find the best-fit parameters for the data\n",
    "- Plot the data against the fitted line"
   ]
  },
  {
   "cell_type": "markdown",
   "metadata": {},
   "source": [
    "### Define function `myline`"
   ]
  },
  {
   "cell_type": "code",
   "execution_count": null,
   "metadata": {},
   "outputs": [],
   "source": [
    "def myline(x, m, b):\n",
    "    \"\"\"\n",
    "    Functional form of a straight line\n",
    "    \n",
    "    Parameters\n",
    "    -----------\n",
    "    x : `float`, `int`, `np.ndarray`, list\n",
    "        Variable that tells you how far along\n",
    "    \n",
    "    m : `float`, `int`\n",
    "        Slope or gradient\n",
    "    \n",
    "    b : `float`, `int`\n",
    "        Y-intercept\n",
    "    \n",
    "    Returns\n",
    "    ---------\n",
    "    y : `float`, `int`, `np.ndarray`, list\n",
    "        Value for how far up on the y-axis\n",
    "    \"\"\"\n",
    "    y = (m * x) + b\n",
    "    \n",
    "    return y"
   ]
  },
  {
   "cell_type": "markdown",
   "metadata": {},
   "source": [
    "### Finding best-fit parameters\n",
    "\n",
    "We can now fit a line to the data, and find the parameters (`m`, and `b`)\n",
    "that best describe our data:"
   ]
  },
  {
   "cell_type": "code",
   "execution_count": null,
   "metadata": {},
   "outputs": [],
   "source": [
    "## Import `curve_fit` function from scipy\n",
    "from scipy.optimize import curve_fit"
   ]
  },
  {
   "cell_type": "code",
   "execution_count": null,
   "metadata": {},
   "outputs": [],
   "source": [
    "## Calculating best-fit parameters\n",
    "bestfit, covar_matrix = curve_fit(myline, x1, y1, p0 = [1.0, 1.0])\n",
    "\n",
    "print(bestfit)"
   ]
  },
  {
   "cell_type": "code",
   "execution_count": null,
   "metadata": {},
   "outputs": [],
   "source": [
    "print(\"Best-fit parameters: m = {0} and b = {1}\".format(*bestfit))"
   ]
  },
  {
   "cell_type": "markdown",
   "metadata": {},
   "source": [
    "In this example:\n",
    "- `myline`: Is the function used to fit the data\n",
    "- `x1`, `y1`: x- and y-values\n",
    "- `p0`: Initial guesses for the two parameters. This variable is _optional_.\n",
    "\n",
    "You can read more about `curve_fit` by typing:"
   ]
  },
  {
   "cell_type": "code",
   "execution_count": null,
   "metadata": {},
   "outputs": [],
   "source": [
    "help(curve_fit)"
   ]
  },
  {
   "cell_type": "markdown",
   "metadata": {},
   "source": [
    "We can now overplot the best-fit line to the data:"
   ]
  },
  {
   "cell_type": "code",
   "execution_count": null,
   "metadata": {},
   "outputs": [],
   "source": [
    "# Initializing figure (optional)\n",
    "fig = plt.figure(figsize=(8,8), facecolor='white')\n",
    "ax  = fig.add_subplot(111, facecolor='white')\n",
    "\n",
    "# Plotting values\n",
    "plt.plot(x1, myline(x1, *bestfit), 'r--', linewidth=2, label='Best fit')\n",
    "plt.plot(x1, y1, 'bo', label='Data')\n",
    "\n",
    "# Setting up limits\n",
    "plt.xlim((-1, 21)) # Limit the x-range of our plot\n",
    "\n",
    "# Axis labels\n",
    "plt.xlabel('This is the x-label', fontsize=20)\n",
    "plt.ylabel('This is the y-label', fontsize=20)\n",
    "\n",
    "# Maybe add a title\n",
    "plt.title('You can also add a title with color',\n",
    "          fontsize=20,\n",
    "          color='blue')\n",
    "\n",
    "# And finally, a legend:\n",
    "plt.legend(loc='best')"
   ]
  },
  {
   "cell_type": "markdown",
   "metadata": {},
   "source": [
    "The final script looks like this:"
   ]
  },
  {
   "cell_type": "code",
   "execution_count": null,
   "metadata": {},
   "outputs": [],
   "source": [
    "%load ../scripts/fitting_line.py"
   ]
  },
  {
   "cell_type": "markdown",
   "metadata": {},
   "source": [
    "## More complicated plots - Histogram\n",
    "\n",
    "Now let's plot a distribution of values"
   ]
  },
  {
   "cell_type": "code",
   "execution_count": null,
   "metadata": {},
   "outputs": [],
   "source": [
    "## Importing modules\n",
    "import numpy as np\n",
    "import scipy\n",
    "import matplotlib.pyplot as plt"
   ]
  },
  {
   "cell_type": "markdown",
   "metadata": {},
   "source": [
    "Now we need to define the mean and standard deviation of a normal distribution, and create an array of __random__ values:"
   ]
  },
  {
   "cell_type": "code",
   "execution_count": null,
   "metadata": {},
   "outputs": [],
   "source": [
    "# Mean and standard deviation\n",
    "mu, sigma = 100, 15\n",
    "\n",
    "# Array of random values\n",
    "x = mu + (sigma * np.random.randn(10000))\n",
    "\n",
    "# Printing out values of `x`\n",
    "print(x)"
   ]
  },
  {
   "cell_type": "markdown",
   "metadata": {},
   "source": [
    "We can also define a function for the PDF of the distribution:"
   ]
  },
  {
   "cell_type": "code",
   "execution_count": null,
   "metadata": {},
   "outputs": [],
   "source": [
    "# Function for the PDF of distribution\n",
    "def normpdf(x, mu, sigma):\n",
    "    \"\"\"\n",
    "    PDF of a distribution with a mean and standard deviation\n",
    "    \n",
    "    Parameters\n",
    "    -----------\n",
    "    x : `np.ndarray`, list\n",
    "        List/Array of values of the distribution\n",
    "    \n",
    "    mu : `float`, `int`\n",
    "        Mean of the distribution\n",
    "    \n",
    "    sigma : `float`, `int`\n",
    "        Standard deviation of the distribution\n",
    "    \n",
    "    Returns\n",
    "    --------\n",
    "    y : `np.ndarray` or list\n",
    "        List/array of the normalized PDF values\n",
    "    \"\"\"\n",
    "    u = (x-mu)/np.abs(sigma)\n",
    "    y = (1/(np.sqrt(2*np.pi)*np.abs(sigma)))*np.exp(-u*u/2)\n",
    "    return y"
   ]
  },
  {
   "cell_type": "markdown",
   "metadata": {},
   "source": [
    "Now we construct a histogram with `plt.hist`:"
   ]
  },
  {
   "cell_type": "code",
   "execution_count": null,
   "metadata": {},
   "outputs": [],
   "source": [
    "# Initialize figure\n",
    "fig = plt.figure(figsize=(8,8))\n",
    "ax = fig.add_subplot(111, facecolor='white')\n",
    "\n",
    "# Creating histogram\n",
    "n, bins, patches = plt.hist(x,\n",
    "                            bins=50,\n",
    "                            density=True,\n",
    "                            histtype='stepfilled',\n",
    "                           facecolor='green',\n",
    "                           alpha=0.75,\n",
    "                           label='Normal distr.')\n",
    "\n",
    "# Normalized PDF\n",
    "y_pdf = normpdf(x, mu, sigma)\n",
    "plt.plot(x, y_pdf, 'ro', linestyle='', label='PDF')\n",
    "\n",
    "# Adding labels and title\n",
    "plt.title(r'Histogram of IQ: $\\mu = %s, \\sigma = %s$' %(mu, sigma),\n",
    "         fontsize=20)\n",
    "\n",
    "# Setting up axis\n",
    "plt.axis([40, 160, 0, 0.03])\n",
    "\n",
    "# Adding a grid\n",
    "plt.grid(True)\n",
    "\n",
    "# Adding legend\n",
    "plt.legend(loc='best', prop={'size': 15})"
   ]
  },
  {
   "cell_type": "markdown",
   "metadata": {},
   "source": [
    "The final script for this looks like:"
   ]
  },
  {
   "cell_type": "code",
   "execution_count": null,
   "metadata": {},
   "outputs": [],
   "source": [
    "%load ../scripts/histogram_pdf.py"
   ]
  },
  {
   "cell_type": "markdown",
   "metadata": {},
   "source": [
    "## Planck Spectrum\n",
    "\n",
    "The next step is to write a script that generates the Planck spectrum (wavelength and intensity at that wavelength for many wavelenghts)\n",
    "\n",
    "> Create an equation in Python syntax such that for temperature T=300 K, and wavelenth ($\\lambda = 1cm$) it finds the intensity of a Planck Spectrum\n",
    "\n",
    "Planck Spectrum:\n",
    "\n",
    "$$\n",
    "I = \\frac{2hc^2}{\\lambda^5}\\frac{1}{e^{hc/\\lambda\\ k T} - 1}\n",
    "$$"
   ]
  },
  {
   "cell_type": "code",
   "execution_count": null,
   "metadata": {},
   "outputs": [],
   "source": [
    "# Write your answer here"
   ]
  }
 ],
 "metadata": {
  "kernelspec": {
   "display_name": "Python 3",
   "language": "python",
   "name": "python3"
  },
  "language_info": {
   "codemirror_mode": {
    "name": "ipython",
    "version": 3
   },
   "file_extension": ".py",
   "mimetype": "text/x-python",
   "name": "python",
   "nbconvert_exporter": "python",
   "pygments_lexer": "ipython3",
   "version": "3.6.4"
  },
  "latex_envs": {
   "LaTeX_envs_menu_present": true,
   "autocomplete": true,
   "bibliofile": "biblio.bib",
   "cite_by": "apalike",
   "current_citInitial": 1,
   "eqLabelWithNumbers": true,
   "eqNumInitial": 1,
   "hotkeys": {
    "equation": "Ctrl-E",
    "itemize": "Ctrl-I"
   },
   "labels_anchors": false,
   "latex_user_defs": false,
   "report_style_numbering": false,
   "user_envs_cfg": false
  }
 },
 "nbformat": 4,
 "nbformat_minor": 2
}
