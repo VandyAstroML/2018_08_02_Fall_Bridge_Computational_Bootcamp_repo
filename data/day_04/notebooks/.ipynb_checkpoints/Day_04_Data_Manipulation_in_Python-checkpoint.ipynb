{
 "cells": [
  {
   "cell_type": "markdown",
   "metadata": {},
   "source": [
    "# Manipulating data in Python\n",
    "\n",
    "In Python, you can manipulate your data in various ways. There are many, different functions that you can use in order to manipulate your data.\n",
    "\n",
    "At the end of this module, we will be generating the __Planck__ spectrum, which describes the intensity of a [blackbody](https://en.wikipedia.org/wiki/Black_body).\n",
    "\n",
    "Before we generate it, we need to know how to read a file, and plot its content"
   ]
  },
  {
   "cell_type": "markdown",
   "metadata": {},
   "source": [
    "## Reading in  and manipulating data\n",
    "\n",
    "There are a lot of modules to read in data from a file:\n",
    "\n",
    "- Numpy\n",
    "    - `genfromtxt`\n",
    "    - `loadfromtxt`\n",
    "- Pandas\n",
    "    - `read_csv`\n",
    "    - `read_table`\n",
    "- ...\n",
    "\n",
    "We will use \"`genfromtxt`\" for this exercise"
   ]
  },
  {
   "cell_type": "code",
   "execution_count": 41,
   "metadata": {},
   "outputs": [],
   "source": [
    "## First, you need to import your modules\n",
    "%matplotlib inline\n",
    "\n",
    "import matplotlib\n",
    "import numpy as np\n",
    "import matplotlib.pyplot as plt"
   ]
  },
  {
   "cell_type": "markdown",
   "metadata": {},
   "source": [
    "We can also define the path to the directory that contains all of our files"
   ]
  },
  {
   "cell_type": "code",
   "execution_count": 17,
   "metadata": {},
   "outputs": [],
   "source": [
    "data_path = '../data/'"
   ]
  },
  {
   "cell_type": "markdown",
   "metadata": {},
   "source": [
    "If you have questions about the function, you can add a \"?\" at the end of your function."
   ]
  },
  {
   "cell_type": "code",
   "execution_count": 18,
   "metadata": {},
   "outputs": [
    {
     "name": "stdout",
     "output_type": "stream",
     "text": [
      "Help on function genfromtxt in module numpy.lib.npyio:\n",
      "\n",
      "genfromtxt(fname, dtype=<class 'float'>, comments='#', delimiter=None, skip_header=0, skip_footer=0, converters=None, missing_values=None, filling_values=None, usecols=None, names=None, excludelist=None, deletechars=None, replace_space='_', autostrip=False, case_sensitive=True, defaultfmt='f%i', unpack=None, usemask=False, loose=True, invalid_raise=True, max_rows=None, encoding='bytes')\n",
      "    Load data from a text file, with missing values handled as specified.\n",
      "    \n",
      "    Each line past the first `skip_header` lines is split at the `delimiter`\n",
      "    character, and characters following the `comments` character are discarded.\n",
      "    \n",
      "    Parameters\n",
      "    ----------\n",
      "    fname : file, str, pathlib.Path, list of str, generator\n",
      "        File, filename, list, or generator to read.  If the filename\n",
      "        extension is `.gz` or `.bz2`, the file is first decompressed. Note\n",
      "        that generators must return byte strings in Python 3k.  The strings\n",
      "        in a list or produced by a generator are treated as lines.\n",
      "    dtype : dtype, optional\n",
      "        Data type of the resulting array.\n",
      "        If None, the dtypes will be determined by the contents of each\n",
      "        column, individually.\n",
      "    comments : str, optional\n",
      "        The character used to indicate the start of a comment.\n",
      "        All the characters occurring on a line after a comment are discarded\n",
      "    delimiter : str, int, or sequence, optional\n",
      "        The string used to separate values.  By default, any consecutive\n",
      "        whitespaces act as delimiter.  An integer or sequence of integers\n",
      "        can also be provided as width(s) of each field.\n",
      "    skiprows : int, optional\n",
      "        `skiprows` was removed in numpy 1.10. Please use `skip_header` instead.\n",
      "    skip_header : int, optional\n",
      "        The number of lines to skip at the beginning of the file.\n",
      "    skip_footer : int, optional\n",
      "        The number of lines to skip at the end of the file.\n",
      "    converters : variable, optional\n",
      "        The set of functions that convert the data of a column to a value.\n",
      "        The converters can also be used to provide a default value\n",
      "        for missing data: ``converters = {3: lambda s: float(s or 0)}``.\n",
      "    missing : variable, optional\n",
      "        `missing` was removed in numpy 1.10. Please use `missing_values`\n",
      "        instead.\n",
      "    missing_values : variable, optional\n",
      "        The set of strings corresponding to missing data.\n",
      "    filling_values : variable, optional\n",
      "        The set of values to be used as default when the data are missing.\n",
      "    usecols : sequence, optional\n",
      "        Which columns to read, with 0 being the first.  For example,\n",
      "        ``usecols = (1, 4, 5)`` will extract the 2nd, 5th and 6th columns.\n",
      "    names : {None, True, str, sequence}, optional\n",
      "        If `names` is True, the field names are read from the first line after\n",
      "        the first `skip_header` lines.  This line can optionally be proceeded\n",
      "        by a comment delimeter. If `names` is a sequence or a single-string of\n",
      "        comma-separated names, the names will be used to define the field names\n",
      "        in a structured dtype. If `names` is None, the names of the dtype\n",
      "        fields will be used, if any.\n",
      "    excludelist : sequence, optional\n",
      "        A list of names to exclude. This list is appended to the default list\n",
      "        ['return','file','print']. Excluded names are appended an underscore:\n",
      "        for example, `file` would become `file_`.\n",
      "    deletechars : str, optional\n",
      "        A string combining invalid characters that must be deleted from the\n",
      "        names.\n",
      "    defaultfmt : str, optional\n",
      "        A format used to define default field names, such as \"f%i\" or \"f_%02i\".\n",
      "    autostrip : bool, optional\n",
      "        Whether to automatically strip white spaces from the variables.\n",
      "    replace_space : char, optional\n",
      "        Character(s) used in replacement of white spaces in the variables\n",
      "        names. By default, use a '_'.\n",
      "    case_sensitive : {True, False, 'upper', 'lower'}, optional\n",
      "        If True, field names are case sensitive.\n",
      "        If False or 'upper', field names are converted to upper case.\n",
      "        If 'lower', field names are converted to lower case.\n",
      "    unpack : bool, optional\n",
      "        If True, the returned array is transposed, so that arguments may be\n",
      "        unpacked using ``x, y, z = loadtxt(...)``\n",
      "    usemask : bool, optional\n",
      "        If True, return a masked array.\n",
      "        If False, return a regular array.\n",
      "    loose : bool, optional\n",
      "        If True, do not raise errors for invalid values.\n",
      "    invalid_raise : bool, optional\n",
      "        If True, an exception is raised if an inconsistency is detected in the\n",
      "        number of columns.\n",
      "        If False, a warning is emitted and the offending lines are skipped.\n",
      "    max_rows : int,  optional\n",
      "        The maximum number of rows to read. Must not be used with skip_footer\n",
      "        at the same time.  If given, the value must be at least 1. Default is\n",
      "        to read the entire file.\n",
      "    \n",
      "        .. versionadded:: 1.10.0\n",
      "    encoding : str, optional\n",
      "        Encoding used to decode the inputfile. Does not apply when `fname` is\n",
      "        a file object.  The special value 'bytes' enables backward compatibility\n",
      "        workarounds that ensure that you receive byte arrays when possible\n",
      "        and passes latin1 encoded strings to converters. Override this value to\n",
      "        receive unicode arrays and pass strings as input to converters.  If set\n",
      "        to None the system default is used. The default value is 'bytes'.\n",
      "    \n",
      "        .. versionadded:: 1.14.0\n",
      "    \n",
      "    Returns\n",
      "    -------\n",
      "    out : ndarray\n",
      "        Data read from the text file. If `usemask` is True, this is a\n",
      "        masked array.\n",
      "    \n",
      "    See Also\n",
      "    --------\n",
      "    numpy.loadtxt : equivalent function when no data is missing.\n",
      "    \n",
      "    Notes\n",
      "    -----\n",
      "    * When spaces are used as delimiters, or when no delimiter has been given\n",
      "      as input, there should not be any missing data between two fields.\n",
      "    * When the variables are named (either by a flexible dtype or with `names`,\n",
      "      there must not be any header in the file (else a ValueError\n",
      "      exception is raised).\n",
      "    * Individual values are not stripped of spaces by default.\n",
      "      When using a custom converter, make sure the function does remove spaces.\n",
      "    \n",
      "    References\n",
      "    ----------\n",
      "    .. [1] NumPy User Guide, section `I/O with NumPy\n",
      "           <http://docs.scipy.org/doc/numpy/user/basics.io.genfromtxt.html>`_.\n",
      "    \n",
      "    Examples\n",
      "    ---------\n",
      "    >>> from io import StringIO\n",
      "    >>> import numpy as np\n",
      "    \n",
      "    Comma delimited file with mixed dtype\n",
      "    \n",
      "    >>> s = StringIO(\"1,1.3,abcde\")\n",
      "    >>> data = np.genfromtxt(s, dtype=[('myint','i8'),('myfloat','f8'),\n",
      "    ... ('mystring','S5')], delimiter=\",\")\n",
      "    >>> data\n",
      "    array((1, 1.3, 'abcde'),\n",
      "          dtype=[('myint', '<i8'), ('myfloat', '<f8'), ('mystring', '|S5')])\n",
      "    \n",
      "    Using dtype = None\n",
      "    \n",
      "    >>> s.seek(0) # needed for StringIO example only\n",
      "    >>> data = np.genfromtxt(s, dtype=None,\n",
      "    ... names = ['myint','myfloat','mystring'], delimiter=\",\")\n",
      "    >>> data\n",
      "    array((1, 1.3, 'abcde'),\n",
      "          dtype=[('myint', '<i8'), ('myfloat', '<f8'), ('mystring', '|S5')])\n",
      "    \n",
      "    Specifying dtype and names\n",
      "    \n",
      "    >>> s.seek(0)\n",
      "    >>> data = np.genfromtxt(s, dtype=\"i8,f8,S5\",\n",
      "    ... names=['myint','myfloat','mystring'], delimiter=\",\")\n",
      "    >>> data\n",
      "    array((1, 1.3, 'abcde'),\n",
      "          dtype=[('myint', '<i8'), ('myfloat', '<f8'), ('mystring', '|S5')])\n",
      "    \n",
      "    An example with fixed-width columns\n",
      "    \n",
      "    >>> s = StringIO(\"11.3abcde\")\n",
      "    >>> data = np.genfromtxt(s, dtype=None, names=['intvar','fltvar','strvar'],\n",
      "    ...     delimiter=[1,3,5])\n",
      "    >>> data\n",
      "    array((1, 1.3, 'abcde'),\n",
      "          dtype=[('intvar', '<i8'), ('fltvar', '<f8'), ('strvar', '|S5')])\n",
      "\n"
     ]
    }
   ],
   "source": [
    "help(np.genfromtxt)"
   ]
  },
  {
   "cell_type": "markdown",
   "metadata": {},
   "source": [
    "Now we can go ahead and read in the data, and save it to two arrays, i.e. __`x1`__ and __`y1`__:"
   ]
  },
  {
   "cell_type": "code",
   "execution_count": 19,
   "metadata": {},
   "outputs": [],
   "source": [
    "x1, y1 = np.genfromtxt('../data/dataset1.txt',\n",
    "                      unpack=True,\n",
    "                      dtype=np.float)"
   ]
  },
  {
   "cell_type": "markdown",
   "metadata": {},
   "source": [
    "We now use __`unpack`__ to tell Python to throw out the two columns and we caught them with arrays __`x`__ and __`y`__, but we could have just captured whatever came out, then it just would be a merged array:"
   ]
  },
  {
   "cell_type": "code",
   "execution_count": 20,
   "metadata": {},
   "outputs": [],
   "source": [
    "data = np.genfromtxt('../data/dataset1.txt', dtype=np.float)"
   ]
  },
  {
   "cell_type": "markdown",
   "metadata": {},
   "source": [
    "You can now examine the output from `genfromtxt`:"
   ]
  },
  {
   "cell_type": "code",
   "execution_count": 21,
   "metadata": {},
   "outputs": [
    {
     "name": "stdout",
     "output_type": "stream",
     "text": [
      "(100, 2)\n"
     ]
    }
   ],
   "source": [
    "print(data.shape)"
   ]
  },
  {
   "cell_type": "code",
   "execution_count": 22,
   "metadata": {},
   "outputs": [
    {
     "name": "stdout",
     "output_type": "stream",
     "text": [
      "[-0.04826417  0.25723241  0.46084084  0.64903566  0.71677476  0.96776548\n",
      "  1.29983937  1.43387289  1.62135006  1.76059405  2.03743367  2.14958662\n",
      "  2.42060419  2.715836    2.9275557   2.9653225   3.19679942  3.4614748\n",
      "  3.54848877  3.76910315  3.98784208  4.19339365  4.4279586   4.62071517\n",
      "  4.79496323  5.00002693  5.23539664  5.37992987  5.60752551  5.93871238\n",
      "  6.08304306  6.3391359   6.56212174  6.70258117  6.84234717  7.01380281\n",
      "  7.22471216  7.42548426  7.58640829  7.93911613  8.08523514  8.27281698\n",
      "  8.50502081  8.58780099  8.97544342  9.06840145  9.32994708  9.4832187\n",
      "  9.7143636   9.9669831  10.05587739 10.24745965 10.50448738 10.64142437\n",
      " 10.97846567 11.13011018 11.30068135 11.57165861 11.65991901 11.94990211\n",
      " 12.18747631 12.4178335  12.55826718 12.82237611 12.85147113 13.04777332\n",
      " 13.42264142 13.46737614 13.81423191 13.97654878 14.1939695  14.37205959\n",
      " 14.53569893 14.66694151 14.91467005 15.22140463 15.36485266 15.59336199\n",
      " 15.69060866 15.89937533 16.23907517 16.36178348 16.54728757 16.73726968\n",
      " 17.04225118 17.24279728 17.33569323 17.56503833 17.70515795 18.02824083\n",
      " 18.23112027 18.33248662 18.62369577 18.77999396 18.89922539 19.10448361\n",
      " 19.3775723  19.56626863 19.83302568 20.05474468]\n"
     ]
    }
   ],
   "source": [
    "print(data[:,0])"
   ]
  },
  {
   "cell_type": "code",
   "execution_count": 23,
   "metadata": {},
   "outputs": [
    {
     "data": {
      "text/plain": [
       "array([-0.04826417,  0.25723241,  0.46084084,  0.64903566,  0.71677476,\n",
       "        0.96776548,  1.29983937,  1.43387289,  1.62135006,  1.76059405,\n",
       "        2.03743367,  2.14958662,  2.42060419,  2.715836  ,  2.9275557 ,\n",
       "        2.9653225 ,  3.19679942,  3.4614748 ,  3.54848877,  3.76910315,\n",
       "        3.98784208,  4.19339365,  4.4279586 ,  4.62071517,  4.79496323,\n",
       "        5.00002693,  5.23539664,  5.37992987,  5.60752551,  5.93871238,\n",
       "        6.08304306,  6.3391359 ,  6.56212174,  6.70258117,  6.84234717,\n",
       "        7.01380281,  7.22471216,  7.42548426,  7.58640829,  7.93911613,\n",
       "        8.08523514,  8.27281698,  8.50502081,  8.58780099,  8.97544342,\n",
       "        9.06840145,  9.32994708,  9.4832187 ,  9.7143636 ,  9.9669831 ,\n",
       "       10.05587739, 10.24745965, 10.50448738, 10.64142437, 10.97846567,\n",
       "       11.13011018, 11.30068135, 11.57165861, 11.65991901, 11.94990211,\n",
       "       12.18747631, 12.4178335 , 12.55826718, 12.82237611, 12.85147113,\n",
       "       13.04777332, 13.42264142, 13.46737614, 13.81423191, 13.97654878,\n",
       "       14.1939695 , 14.37205959, 14.53569893, 14.66694151, 14.91467005,\n",
       "       15.22140463, 15.36485266, 15.59336199, 15.69060866, 15.89937533,\n",
       "       16.23907517, 16.36178348, 16.54728757, 16.73726968, 17.04225118,\n",
       "       17.24279728, 17.33569323, 17.56503833, 17.70515795, 18.02824083,\n",
       "       18.23112027, 18.33248662, 18.62369577, 18.77999396, 18.89922539,\n",
       "       19.10448361, 19.3775723 , 19.56626863, 19.83302568, 20.05474468])"
      ]
     },
     "execution_count": 23,
     "metadata": {},
     "output_type": "execute_result"
    }
   ],
   "source": [
    "x1"
   ]
  },
  {
   "cell_type": "markdown",
   "metadata": {},
   "source": [
    "You can check that the 1st column of __`data`__ is the same as __`x1`__ with `np.array_equal`:"
   ]
  },
  {
   "cell_type": "code",
   "execution_count": 24,
   "metadata": {},
   "outputs": [
    {
     "data": {
      "text/plain": [
       "True"
      ]
     },
     "execution_count": 24,
     "metadata": {},
     "output_type": "execute_result"
    }
   ],
   "source": [
    "np.array_equal(x1, data[:,0])"
   ]
  },
  {
   "cell_type": "markdown",
   "metadata": {},
   "source": [
    "### Reading in from remote data\n",
    "\n",
    "Another nice thing about `genfromtxt` is that it can read dta from a __URL__:"
   ]
  },
  {
   "cell_type": "code",
   "execution_count": 34,
   "metadata": {},
   "outputs": [],
   "source": [
    "## Setting up path to remote file\n",
    "remote_file = 'https://raw.githubusercontent.com/jbrownlee/Datasets/master/pima-indians-diabetes.data.csv'\n",
    "\n",
    "## Extracting data from file, and saving it as to variable `A`\n",
    "A = np.genfromtxt(remote_file, unpack=True, delimiter=',')"
   ]
  },
  {
   "cell_type": "markdown",
   "metadata": {},
   "source": [
    "Now `A` has the shape of 9 columns by 768 rows"
   ]
  },
  {
   "cell_type": "code",
   "execution_count": 31,
   "metadata": {},
   "outputs": [
    {
     "data": {
      "text/plain": [
       "(9, 768)"
      ]
     },
     "execution_count": 31,
     "metadata": {},
     "output_type": "execute_result"
    }
   ],
   "source": [
    "A.shape"
   ]
  },
  {
   "cell_type": "markdown",
   "metadata": {},
   "source": [
    "As you can see, the shape of `A` is different than the one in the URL.\n",
    "To fix it, you can `transpose` the array:"
   ]
  },
  {
   "cell_type": "code",
   "execution_count": 39,
   "metadata": {},
   "outputs": [
    {
     "data": {
      "text/plain": [
       "array([[  6.   , 148.   ,  72.   , ...,   0.627,  50.   ,   1.   ],\n",
       "       [  1.   ,  85.   ,  66.   , ...,   0.351,  31.   ,   0.   ],\n",
       "       [  8.   , 183.   ,  64.   , ...,   0.672,  32.   ,   1.   ],\n",
       "       ...,\n",
       "       [  5.   , 121.   ,  72.   , ...,   0.245,  30.   ,   0.   ],\n",
       "       [  1.   , 126.   ,  60.   , ...,   0.349,  47.   ,   1.   ],\n",
       "       [  1.   ,  93.   ,  70.   , ...,   0.315,  23.   ,   0.   ]])"
      ]
     },
     "execution_count": 39,
     "metadata": {},
     "output_type": "execute_result"
    }
   ],
   "source": [
    "A.T"
   ]
  },
  {
   "cell_type": "code",
   "execution_count": 40,
   "metadata": {},
   "outputs": [
    {
     "name": "stdout",
     "output_type": "stream",
     "text": [
      "(768, 9)\n"
     ]
    }
   ],
   "source": [
    "print(A.T.shape)"
   ]
  },
  {
   "cell_type": "markdown",
   "metadata": {},
   "source": [
    "## Fitting a straight line\n",
    "\n",
    "Now that we've read the data, we can use to __fit__ a straight line to it.\n",
    "\n",
    "The steps to follow are:\n",
    "- Create a new function called `myline`\n",
    "- Find the best-fit parameters for the data\n",
    "- Plot the data against the fitted line"
   ]
  },
  {
   "cell_type": "markdown",
   "metadata": {},
   "source": [
    "### Define function `myline`"
   ]
  },
  {
   "cell_type": "code",
   "execution_count": 43,
   "metadata": {},
   "outputs": [],
   "source": [
    "def myline(x, m, b):\n",
    "    \"\"\"\n",
    "    Functional form of a straight line\n",
    "    \n",
    "    Parameters\n",
    "    -----------\n",
    "    x : `float`, `int`, `np.ndarray`, list\n",
    "        Variable that tells you how far along\n",
    "    \n",
    "    m : `float`, `int`\n",
    "        Slope or gradient\n",
    "    \n",
    "    b : `float`, `int`\n",
    "        Y-intercept\n",
    "    \n",
    "    Returns\n",
    "    ---------\n",
    "    y : `float`, `int`, `np.ndarray`, list\n",
    "        Value for how far up on the y-axis\n",
    "    \"\"\"\n",
    "    y = (m * x) + b\n",
    "    \n",
    "    return y"
   ]
  },
  {
   "cell_type": "markdown",
   "metadata": {},
   "source": [
    "### Finding best-fit parameters\n",
    "\n",
    "We can now fit a line to the data, and find the parameters (`m`, and `b`)\n",
    "that best describe our data:"
   ]
  },
  {
   "cell_type": "code",
   "execution_count": 44,
   "metadata": {},
   "outputs": [],
   "source": [
    "## Import `curve_fit` function from scipy\n",
    "from scipy.optimize import curve_fit"
   ]
  },
  {
   "cell_type": "code",
   "execution_count": 47,
   "metadata": {},
   "outputs": [
    {
     "name": "stdout",
     "output_type": "stream",
     "text": [
      "[3.12950289 3.72975489]\n"
     ]
    }
   ],
   "source": [
    "## Calculating best-fit parameters\n",
    "bestfit, covar_matrix = curve_fit(myline, x1, y1, p0 = [1.0, 1.0])\n",
    "\n",
    "print(bestfit)"
   ]
  },
  {
   "cell_type": "code",
   "execution_count": 50,
   "metadata": {},
   "outputs": [
    {
     "name": "stdout",
     "output_type": "stream",
     "text": [
      "Best-fit parameters: m = 3.129502893478391 and b = 3.7297548918690517\n"
     ]
    }
   ],
   "source": [
    "print(\"Best-fit parameters: m = {0} and b = {1}\".format(*bestfit))"
   ]
  },
  {
   "cell_type": "markdown",
   "metadata": {},
   "source": [
    "In this example:\n",
    "- `myline`: Is the function used to fit the data\n",
    "- `x1`, `y1`: x- and y-values\n",
    "- `p0`: Initial guesses for the two parameters. This variable is _optional_.\n",
    "\n",
    "You can read more about `curve_fit` by typing:"
   ]
  },
  {
   "cell_type": "code",
   "execution_count": 46,
   "metadata": {},
   "outputs": [
    {
     "name": "stdout",
     "output_type": "stream",
     "text": [
      "Help on function curve_fit in module scipy.optimize.minpack:\n",
      "\n",
      "curve_fit(f, xdata, ydata, p0=None, sigma=None, absolute_sigma=False, check_finite=True, bounds=(-inf, inf), method=None, jac=None, **kwargs)\n",
      "    Use non-linear least squares to fit a function, f, to data.\n",
      "    \n",
      "    Assumes ``ydata = f(xdata, *params) + eps``\n",
      "    \n",
      "    Parameters\n",
      "    ----------\n",
      "    f : callable\n",
      "        The model function, f(x, ...).  It must take the independent\n",
      "        variable as the first argument and the parameters to fit as\n",
      "        separate remaining arguments.\n",
      "    xdata : An M-length sequence or an (k,M)-shaped array for functions with k predictors\n",
      "        The independent variable where the data is measured.\n",
      "    ydata : M-length sequence\n",
      "        The dependent data --- nominally f(xdata, ...)\n",
      "    p0 : None, scalar, or N-length sequence, optional\n",
      "        Initial guess for the parameters.  If None, then the initial\n",
      "        values will all be 1 (if the number of parameters for the function\n",
      "        can be determined using introspection, otherwise a ValueError\n",
      "        is raised).\n",
      "    sigma : None or M-length sequence or MxM array, optional\n",
      "        Determines the uncertainty in `ydata`. If we define residuals as\n",
      "        ``r = ydata - f(xdata, *popt)``, then the interpretation of `sigma`\n",
      "        depends on its number of dimensions:\n",
      "    \n",
      "            - A 1-d `sigma` should contain values of standard deviations of\n",
      "              errors in `ydata`. In this case, the optimized function is\n",
      "              ``chisq = sum((r / sigma) ** 2)``.\n",
      "    \n",
      "            - A 2-d `sigma` should contain the covariance matrix of\n",
      "              errors in `ydata`. In this case, the optimized function is\n",
      "              ``chisq = r.T @ inv(sigma) @ r``.\n",
      "    \n",
      "              .. versionadded:: 0.19\n",
      "    \n",
      "        None (default) is equivalent of 1-d `sigma` filled with ones.\n",
      "    absolute_sigma : bool, optional\n",
      "        If True, `sigma` is used in an absolute sense and the estimated parameter\n",
      "        covariance `pcov` reflects these absolute values.\n",
      "    \n",
      "        If False, only the relative magnitudes of the `sigma` values matter.\n",
      "        The returned parameter covariance matrix `pcov` is based on scaling\n",
      "        `sigma` by a constant factor. This constant is set by demanding that the\n",
      "        reduced `chisq` for the optimal parameters `popt` when using the\n",
      "        *scaled* `sigma` equals unity. In other words, `sigma` is scaled to\n",
      "        match the sample variance of the residuals after the fit.\n",
      "        Mathematically,\n",
      "        ``pcov(absolute_sigma=False) = pcov(absolute_sigma=True) * chisq(popt)/(M-N)``\n",
      "    check_finite : bool, optional\n",
      "        If True, check that the input arrays do not contain nans of infs,\n",
      "        and raise a ValueError if they do. Setting this parameter to\n",
      "        False may silently produce nonsensical results if the input arrays\n",
      "        do contain nans. Default is True.\n",
      "    bounds : 2-tuple of array_like, optional\n",
      "        Lower and upper bounds on independent variables. Defaults to no bounds.\n",
      "        Each element of the tuple must be either an array with the length equal\n",
      "        to the number of parameters, or a scalar (in which case the bound is\n",
      "        taken to be the same for all parameters.) Use ``np.inf`` with an\n",
      "        appropriate sign to disable bounds on all or some parameters.\n",
      "    \n",
      "        .. versionadded:: 0.17\n",
      "    method : {'lm', 'trf', 'dogbox'}, optional\n",
      "        Method to use for optimization.  See `least_squares` for more details.\n",
      "        Default is 'lm' for unconstrained problems and 'trf' if `bounds` are\n",
      "        provided. The method 'lm' won't work when the number of observations\n",
      "        is less than the number of variables, use 'trf' or 'dogbox' in this\n",
      "        case.\n",
      "    \n",
      "        .. versionadded:: 0.17\n",
      "    jac : callable, string or None, optional\n",
      "        Function with signature ``jac(x, ...)`` which computes the Jacobian\n",
      "        matrix of the model function with respect to parameters as a dense\n",
      "        array_like structure. It will be scaled according to provided `sigma`.\n",
      "        If None (default), the Jacobian will be estimated numerically.\n",
      "        String keywords for 'trf' and 'dogbox' methods can be used to select\n",
      "        a finite difference scheme, see `least_squares`.\n",
      "    \n",
      "        .. versionadded:: 0.18\n",
      "    kwargs\n",
      "        Keyword arguments passed to `leastsq` for ``method='lm'`` or\n",
      "        `least_squares` otherwise.\n",
      "    \n",
      "    Returns\n",
      "    -------\n",
      "    popt : array\n",
      "        Optimal values for the parameters so that the sum of the squared\n",
      "        residuals of ``f(xdata, *popt) - ydata`` is minimized\n",
      "    pcov : 2d array\n",
      "        The estimated covariance of popt. The diagonals provide the variance\n",
      "        of the parameter estimate. To compute one standard deviation errors\n",
      "        on the parameters use ``perr = np.sqrt(np.diag(pcov))``.\n",
      "    \n",
      "        How the `sigma` parameter affects the estimated covariance\n",
      "        depends on `absolute_sigma` argument, as described above.\n",
      "    \n",
      "        If the Jacobian matrix at the solution doesn't have a full rank, then\n",
      "        'lm' method returns a matrix filled with ``np.inf``, on the other hand\n",
      "        'trf'  and 'dogbox' methods use Moore-Penrose pseudoinverse to compute\n",
      "        the covariance matrix.\n",
      "    \n",
      "    Raises\n",
      "    ------\n",
      "    ValueError\n",
      "        if either `ydata` or `xdata` contain NaNs, or if incompatible options\n",
      "        are used.\n",
      "    \n",
      "    RuntimeError\n",
      "        if the least-squares minimization fails.\n",
      "    \n",
      "    OptimizeWarning\n",
      "        if covariance of the parameters can not be estimated.\n",
      "    \n",
      "    See Also\n",
      "    --------\n",
      "    least_squares : Minimize the sum of squares of nonlinear functions.\n",
      "    scipy.stats.linregress : Calculate a linear least squares regression for\n",
      "                             two sets of measurements.\n",
      "    \n",
      "    Notes\n",
      "    -----\n",
      "    With ``method='lm'``, the algorithm uses the Levenberg-Marquardt algorithm\n",
      "    through `leastsq`. Note that this algorithm can only deal with\n",
      "    unconstrained problems.\n",
      "    \n",
      "    Box constraints can be handled by methods 'trf' and 'dogbox'. Refer to\n",
      "    the docstring of `least_squares` for more information.\n",
      "    \n",
      "    Examples\n",
      "    --------\n",
      "    >>> import numpy as np\n",
      "    >>> import matplotlib.pyplot as plt\n",
      "    >>> from scipy.optimize import curve_fit\n",
      "    \n",
      "    >>> def func(x, a, b, c):\n",
      "    ...     return a * np.exp(-b * x) + c\n",
      "    \n",
      "    Define the data to be fit with some noise:\n",
      "    \n",
      "    >>> xdata = np.linspace(0, 4, 50)\n",
      "    >>> y = func(xdata, 2.5, 1.3, 0.5)\n",
      "    >>> np.random.seed(1729)\n",
      "    >>> y_noise = 0.2 * np.random.normal(size=xdata.size)\n",
      "    >>> ydata = y + y_noise\n",
      "    >>> plt.plot(xdata, ydata, 'b-', label='data')\n",
      "    \n",
      "    Fit for the parameters a, b, c of the function `func`:\n",
      "    \n",
      "    >>> popt, pcov = curve_fit(func, xdata, ydata)\n",
      "    >>> popt\n",
      "    array([ 2.55423706,  1.35190947,  0.47450618])\n",
      "    >>> plt.plot(xdata, func(xdata, *popt), 'r-',\n",
      "    ...          label='fit: a=%5.3f, b=%5.3f, c=%5.3f' % tuple(popt))\n",
      "    \n",
      "    Constrain the optimization to the region of ``0 <= a <= 3``,\n",
      "    ``0 <= b <= 1`` and ``0 <= c <= 0.5``:\n",
      "    \n",
      "    >>> popt, pcov = curve_fit(func, xdata, ydata, bounds=(0, [3., 1., 0.5]))\n",
      "    >>> popt\n",
      "    array([ 2.43708906,  1.        ,  0.35015434])\n",
      "    >>> plt.plot(xdata, func(xdata, *popt), 'g--',\n",
      "    ...          label='fit: a=%5.3f, b=%5.3f, c=%5.3f' % tuple(popt))\n",
      "    \n",
      "    >>> plt.xlabel('x')\n",
      "    >>> plt.ylabel('y')\n",
      "    >>> plt.legend()\n",
      "    >>> plt.show()\n",
      "\n"
     ]
    }
   ],
   "source": [
    "help(curve_fit)"
   ]
  },
  {
   "cell_type": "markdown",
   "metadata": {},
   "source": [
    "We can now overplot the best-fit line to the data:"
   ]
  },
  {
   "cell_type": "code",
   "execution_count": 69,
   "metadata": {},
   "outputs": [
    {
     "data": {
      "text/plain": [
       "<matplotlib.legend.Legend at 0x15199c0fd0>"
      ]
     },
     "execution_count": 69,
     "metadata": {},
     "output_type": "execute_result"
    },
    {
     "data": {
      "image/png": "[encoded data removed]",
      "text/plain": [
       "<Figure size 576x576 with 1 Axes>"
      ]
     },
     "metadata": {},
     "output_type": "display_data"
    }
   ],
   "source": [
    "# Initializing figure (optional)\n",
    "fig = plt.figure(figsize=(8,8), facecolor='white')\n",
    "ax  = fig.add_subplot(111, facecolor='white')\n",
    "\n",
    "# Plotting values\n",
    "plt.plot(x1, myline(x1, *bestfit), 'r--', linewidth=2, label='Best fit')\n",
    "plt.plot(x1, y1, 'bo', label='Data')\n",
    "\n",
    "# Setting up limits\n",
    "plt.xlim((-1, 21)) # Limit the x-range of our plot\n",
    "\n",
    "# Axis labels\n",
    "plt.xlabel('This is the x-label', fontsize=20)\n",
    "plt.ylabel('This is the y-label', fontsize=20)\n",
    "\n",
    "# Maybe add a title\n",
    "plt.title('You can also add a title with color',\n",
    "          fontsize=20,\n",
    "          color='blue')\n",
    "\n",
    "# And finally, a legend:\n",
    "plt.legend(loc='best')"
   ]
  },
  {
   "cell_type": "markdown",
   "metadata": {},
   "source": [
    "The final script looks like this:"
   ]
  },
  {
   "cell_type": "code",
   "execution_count": null,
   "metadata": {},
   "outputs": [],
   "source": [
    "# %load ../scripts/fitting_line.py\n",
    "#! /usr/bin/env python\n",
    "\n",
    "# Victor Calderon\n",
    "# Created      : 2018-08-06\n",
    "# Last Modified: 2018-08-06\n",
    "# Vanderbilt University\n",
    "from __future__ import absolute_import, division, print_function \n",
    "__author__     = ['Victor Calderon']\n",
    "__copyright__  = [\"Copyright 2018 Victor Calderon, Fitting a line\"]\n",
    "__email__      = ['victor.calderon@vanderbilt.edu']\n",
    "__maintainer__ = ['Victor Calderon']\n",
    "\"\"\"\n",
    "Fits a line from the data\n",
    "\"\"\"\n",
    "\n",
    "## Importing modules\n",
    "import matplotlib\n",
    "import numpy as np\n",
    "import matplotlib.pyplot as plt\n",
    "from scipy.optimize import curve_fit\n",
    "\n",
    "# Function for fitting a line\n",
    "def myline(x, m, b):\n",
    "    \"\"\"\n",
    "    Functional form of a straight line\n",
    "    \n",
    "    Parameters\n",
    "    -----------\n",
    "    x : `float`, `int`, `np.ndarray`, list\n",
    "        Variable that tells you how far along\n",
    "    \n",
    "    m : `float`, `int`\n",
    "        Slope or gradient\n",
    "    \n",
    "    b : `float`, `int`\n",
    "        Y-intercept\n",
    "    \n",
    "    Returns\n",
    "    ---------\n",
    "    y : `float`, `int`, `np.ndarray`, list\n",
    "        Value for how far up on the y-axis\n",
    "    \"\"\"\n",
    "    y = (m * x) + b\n",
    "    \n",
    "    return y\n",
    "\n",
    "# Function to plot figure\n",
    "def plot_fit(x1, y1, bestfit):\n",
    "    \"\"\"\n",
    "    Plots the best-fit line for data\n",
    "\n",
    "    Parameters\n",
    "    -----------\n",
    "    x1, y1 : `np.ndarray`\n",
    "        Arrays for x- and y-values of the data\n",
    "\n",
    "    bestfit : list, `np.ndarray`\n",
    "        List of best-fit parameters from `scipy.optimize.curve_fit` function\n",
    "    \"\"\"\n",
    "    # Clearing any previous figure\n",
    "    # Initializing figure (optional)\n",
    "    fig = plt.figure(figsize=(8,8), facecolor='white')\n",
    "    ax  = fig.add_subplot(111, facecolor='white')\n",
    "\n",
    "    # Plotting values\n",
    "    plt.plot(x1, myline(x1, *bestfit), 'r--', linewidth=2, label='Best fit')\n",
    "    plt.plot(x1, y1, 'bo', label='Data')\n",
    "\n",
    "    # Setting up limits\n",
    "    plt.xlim((-1, 21)) # Limit the x-range of our plot\n",
    "\n",
    "    # Axis labels\n",
    "    plt.xlabel('This is the x-label', fontsize=20)\n",
    "    plt.ylabel('This is the y-label', fontsize=20)\n",
    "\n",
    "    # Maybe add a title\n",
    "    plt.title('You can also add a title with color',\n",
    "              fontsize=20,\n",
    "              color='blue')\n",
    "\n",
    "    # And finally, a legend:\n",
    "    plt.legend(loc='best')\n",
    "    #\n",
    "    # Showing plot\n",
    "    plt.show()\n",
    "\n",
    "# Functions\n",
    "def main():\n",
    "    # Defining path\n",
    "    data_path = '../data/'\n",
    "\n",
    "    # Reading information\n",
    "    x1, y1 = np.genfromtxt('../data/dataset1.txt',\n",
    "                          unpack=True,\n",
    "                          dtype=np.float)\n",
    "\n",
    "    ## Calculating best-fit parameters\n",
    "    bestfit, covar_matrix = curve_fit(myline, x1, y1, p0 = [1.0, 1.0])\n",
    "\n",
    "    ## Printing out best-fit parameters\n",
    "    print(\"Best-fit parameters: m = {0} and b = {1}\".format(*bestfit))\n",
    "\n",
    "    ## Plotting\n",
    "    plot_fit(x1, y1, bestfit)\n",
    "\n",
    "if __name__ == '__main__':\n",
    "    main()\n",
    "\n"
   ]
  },
  {
   "cell_type": "markdown",
   "metadata": {},
   "source": [
    "## More complicated plots - Histogram\n",
    "\n",
    "Now let's plot a distribution of values"
   ]
  },
  {
   "cell_type": "code",
   "execution_count": 80,
   "metadata": {},
   "outputs": [],
   "source": [
    "## Importing modules\n",
    "import numpy as np\n",
    "import scipy\n",
    "import matplotlib.pyplot as plt"
   ]
  },
  {
   "cell_type": "markdown",
   "metadata": {},
   "source": [
    "Now we need to define the mean and standard deviation of a normal distribution, and create an array of __random__ values:"
   ]
  },
  {
   "cell_type": "code",
   "execution_count": 76,
   "metadata": {},
   "outputs": [
    {
     "name": "stdout",
     "output_type": "stream",
     "text": [
      "[ 95.46937103  80.14261552 118.50166338 ...  93.32653539  99.96928914\n",
      "  83.02629938]\n"
     ]
    }
   ],
   "source": [
    "# Mean and standard deviation\n",
    "mu, sigma = 100, 15\n",
    "\n",
    "# Array of random values\n",
    "x = mu + (sigma * np.random.randn(10000))\n",
    "\n",
    "# Printing out values of `x`\n",
    "print(x)"
   ]
  },
  {
   "cell_type": "markdown",
   "metadata": {},
   "source": [
    "We can also define a function for the PDF of the distribution:"
   ]
  },
  {
   "cell_type": "code",
   "execution_count": 92,
   "metadata": {},
   "outputs": [],
   "source": [
    "# Function for the PDF of distribution\n",
    "def normpdf(x, mu, sigma):\n",
    "    \"\"\"\n",
    "    PDF of a distribution with a mean and standard deviation\n",
    "    \n",
    "    Parameters\n",
    "    -----------\n",
    "    x : `np.ndarray`, list\n",
    "        List/Array of values of the distribution\n",
    "    \n",
    "    mu : `float`, `int`\n",
    "        Mean of the distribution\n",
    "    \n",
    "    sigma : `float`, `int`\n",
    "        Standard deviation of the distribution\n",
    "    \n",
    "    Returns\n",
    "    --------\n",
    "    y : `np.ndarray` or list\n",
    "        List/array of the normalized PDF values\n",
    "    \"\"\"\n",
    "    u = (x-mu)/np.abs(sigma)\n",
    "    y = (1/(np.sqrt(2*np.pi)*np.abs(sigma)))*np.exp(-u*u/2)\n",
    "    return y"
   ]
  },
  {
   "cell_type": "markdown",
   "metadata": {},
   "source": [
    "Now we construct a histogram with `plt.hist`:"
   ]
  },
  {
   "cell_type": "code",
   "execution_count": 113,
   "metadata": {},
   "outputs": [
    {
     "data": {
      "text/plain": [
       "<matplotlib.legend.Legend at 0x15289d1160>"
      ]
     },
     "execution_count": 113,
     "metadata": {},
     "output_type": "execute_result"
    },
    {
     "data": {
      "image/png": "[encoded data removed]",
      "text/plain": [
       "<Figure size 576x576 with 1 Axes>"
      ]
     },
     "metadata": {},
     "output_type": "display_data"
    }
   ],
   "source": [
    "# Initialize figure\n",
    "fig = plt.figure(figsize=(8,8))\n",
    "ax = fig.add_subplot(111, facecolor='white')\n",
    "\n",
    "# Creating histogram\n",
    "n, bins, patches = plt.hist(x,\n",
    "                            bins=50,\n",
    "                            density=True,\n",
    "                            histtype='stepfilled',\n",
    "                           facecolor='green',\n",
    "                           alpha=0.75,\n",
    "                           label='Normal distr.')\n",
    "\n",
    "# Normalized PDF\n",
    "y_pdf = normpdf(x, mu, sigma)\n",
    "plt.plot(x, y_pdf, 'ro', linestyle='', label='PDF')\n",
    "\n",
    "# Adding labels and title\n",
    "plt.title(r'Histogram of IQ: $\\mu = %s, \\sigma = %s$' %(mu, sigma),\n",
    "         fontsize=20)\n",
    "\n",
    "# Setting up axis\n",
    "plt.axis([40, 160, 0, 0.03])\n",
    "\n",
    "# Adding a grid\n",
    "plt.grid(True)\n",
    "\n",
    "# Adding legend\n",
    "plt.legend(loc='best', prop={'size': 15})"
   ]
  },
  {
   "cell_type": "markdown",
   "metadata": {},
   "source": [
    "The final script for this looks like:"
   ]
  },
  {
   "cell_type": "code",
   "execution_count": null,
   "metadata": {},
   "outputs": [],
   "source": [
    "# %load ../scripts/histogram_pdf.py\n",
    "#! /usr/bin/env python\n",
    "\n",
    "# Victor Calderon\n",
    "# Created      : 2018-08-06\n",
    "# Last Modified: 2018-08-06\n",
    "# Vanderbilt University\n",
    "from __future__ import absolute_import, division, print_function \n",
    "__author__     = ['Victor Calderon']\n",
    "__copyright__  = [\"Copyright 2018 Victor Calderon, Fitting a line\"]\n",
    "__email__      = ['victor.calderon@vanderbilt.edu']\n",
    "__maintainer__ = ['Victor Calderon']\n",
    "\"\"\"\n",
    "Fits a line from the data\n",
    "\"\"\"\n",
    "\n",
    "## Importing modules\n",
    "import numpy as np\n",
    "import scipy\n",
    "import matplotlib.pyplot as plt\n",
    "\n",
    "# Function for the PDF of distribution\n",
    "def normpdf(x, mu, sigma):\n",
    "    \"\"\"\n",
    "    PDF of a distribution with a mean and standard deviation\n",
    "    \n",
    "    Parameters\n",
    "    -----------\n",
    "    x : `np.ndarray`, list\n",
    "        List/Array of values of the distribution\n",
    "    \n",
    "    mu : `float`, `int`\n",
    "        Mean of the distribution\n",
    "    \n",
    "    sigma : `float`, `int`\n",
    "        Standard deviation of the distribution\n",
    "    \n",
    "    Returns\n",
    "    --------\n",
    "    y : `np.ndarray` or list\n",
    "        List/array of the normalized PDF values\n",
    "    \"\"\"\n",
    "    u = (x-mu)/np.abs(sigma)\n",
    "    y = (1/(np.sqrt(2*np.pi)*np.abs(sigma)))*np.exp(-u*u/2)\n",
    "    return y\n",
    "\n",
    "# Function to plot figure\n",
    "def plot_fit(x, mu, sigma):\n",
    "    \"\"\"\n",
    "    Plots the histogram of `x` and computes the PDF of it.\n",
    "\n",
    "    Parameters\n",
    "    -----------\n",
    "    x : `np.ndarray`, list\n",
    "        List/Array of values of the distribution\n",
    "    \n",
    "    mu : `float`, `int`\n",
    "        Mean of the distribution\n",
    "    \n",
    "    sigma : `float`, `int`\n",
    "        Standard deviation of the distribution\n",
    "    \"\"\"\n",
    "    # Clearing any previous figure\n",
    "    plt.clf()\n",
    "    plt.close()\n",
    "    # Initialize figure\n",
    "    fig = plt.figure(figsize=(8,8))\n",
    "    ax = fig.add_subplot(111, facecolor='white')\n",
    "\n",
    "    # Creating histogram\n",
    "    n, bins, patches = plt.hist(x,\n",
    "                                bins=50,\n",
    "                                density=True,\n",
    "                                histtype='stepfilled',\n",
    "                               facecolor='green',\n",
    "                               alpha=0.75,\n",
    "                               label='Normal distr.')\n",
    "\n",
    "    # Normalized PDF\n",
    "    y_pdf = normpdf(x, mu, sigma)\n",
    "    plt.plot(x, y_pdf, 'ro', linestyle='', label='PDF')\n",
    "\n",
    "    # Adding labels and title\n",
    "    plt.title(r'Histogram of IQ: $\\mu = %s, \\sigma = %s$' %(mu, sigma),\n",
    "             fontsize=20)\n",
    "\n",
    "    # Setting up axis\n",
    "    plt.axis([40, 160, 0, 0.03])\n",
    "\n",
    "    # Adding a grid\n",
    "    plt.grid(True)\n",
    "\n",
    "    # Adding legend\n",
    "    plt.legend(loc='best', prop={'size': 15})\n",
    "    # Showing plot\n",
    "    plt.show()\n",
    "\n",
    "# Functions\n",
    "def main():\n",
    "    # Mean and standard deviation\n",
    "    mu, sigma = 100, 15\n",
    "\n",
    "    # Array of random values\n",
    "    x = mu + (sigma * np.random.randn(10000))\n",
    "\n",
    "    ## Plotting\n",
    "    plot_fit(x, mu, sigma)\n",
    "\n",
    "if __name__ == '__main__':\n",
    "    main()\n",
    "\n"
   ]
  },
  {
   "cell_type": "markdown",
   "metadata": {},
   "source": [
    "## Planck Spectrum\n",
    "\n",
    "The next step is to write a script that generates the Planck spectrum (wavelength and intensity at that wavelength for many wavelenghts)\n",
    "\n",
    "> Create an equation in Python syntax such that for temperature T=300 K, and wavelenth ($\\lambda = 1cm$) it finds the intensity of a Planck Spectrum\n",
    "\n",
    "Planck Spectrum:\n",
    "\n",
    "$$\n",
    "I = \\frac{2hc^2}{\\lambda^5}\\frac{1}{e^{hc/\\lambda\\ k T} - 1}\n",
    "$$"
   ]
  },
  {
   "cell_type": "code",
   "execution_count": null,
   "metadata": {},
   "outputs": [],
   "source": [
    "# Write your answer here"
   ]
  }
 ],
 "metadata": {
  "kernelspec": {
   "display_name": "Python 3",
   "language": "python",
   "name": "python3"
  },
  "language_info": {
   "codemirror_mode": {
    "name": "ipython",
    "version": 3
   },
   "file_extension": ".py",
   "mimetype": "text/x-python",
   "name": "python",
   "nbconvert_exporter": "python",
   "pygments_lexer": "ipython3",
   "version": "3.6.4"
  },
  "latex_envs": {
   "LaTeX_envs_menu_present": true,
   "autocomplete": true,
   "bibliofile": "biblio.bib",
   "cite_by": "apalike",
   "current_citInitial": 1,
   "eqLabelWithNumbers": true,
   "eqNumInitial": 1,
   "hotkeys": {
    "equation": "Ctrl-E",
    "itemize": "Ctrl-I"
   },
   "labels_anchors": false,
   "latex_user_defs": false,
   "report_style_numbering": false,
   "user_envs_cfg": false
  }
 },
 "nbformat": 4,
 "nbformat_minor": 2
}
